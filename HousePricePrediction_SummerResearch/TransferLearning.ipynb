{
 "cells": [
  {
   "cell_type": "markdown",
   "id": "d9f8b4d0",
   "metadata": {},
   "source": [
    "# Download VGG16"
   ]
  },
  {
   "cell_type": "code",
   "execution_count": null,
   "id": "84103807",
   "metadata": {},
   "outputs": [],
   "source": [
    "from keras.applications import VGG16\n",
    "# include top should be False to remove the softmax layer\n",
    "pretrained_model = VGG16(include_top=False, weights='imagenet')\n",
    "pretrained_model.summary()"
   ]
  },
  {
   "cell_type": "markdown",
   "id": "c067f33f",
   "metadata": {},
   "source": [
    "# Definition"
   ]
  },
  {
   "cell_type": "code",
   "execution_count": null,
   "id": "fb3b1d95",
   "metadata": {},
   "outputs": [],
   "source": [
    "import numpy as np \n",
    "from sklearn.model_selection import train_test_split\n",
    "from keras.datasets import cifar10\n",
    "from keras.models import Sequential\n",
    "from keras.layers import Dense, Dropout, Conv2D, MaxPool2D, Flatten\n",
    "from keras.layers import Conv2D, MaxPool2D, Flatten, Dense, InputLayer, BatchNormalization, Dropout\n",
    "from keras.utils import np_utils\n",
    "import pandas as pd\n",
    "from tensorflow.keras import backend as K\n",
    "from keras.utils import to_categorical\n",
    "\n",
    "\n",
    "# inputFile is the file that stores the 4d input arrays\n",
    "# outputFile is the file that stores the target or class of each input property. \n",
    "    # ! outputFile isn't the file we write to the directory !\n",
    "# testSize is the proportion of our test samples. \n",
    "    # Eg: 0.3 means 30% of the hhinput are test samples, 70% of the input are training samples.\n",
    "# numOfClass is the total number of groups each property belonged to.\n",
    "    # Eg; 3 represents there are three groups: group 0, group 1 and group 2\n",
    "def Run_CNN_Model(inputFile, outputFile, testSize, numOfClass):\n",
    "    \n",
    "    # load the 4d input arrays and 1d output array\n",
    "    X = np.load(inputFile) # format: 'ImageArray02(1).npy'\n",
    "    #Y = np.random.choice([0,1,2,3,4,5], len(X))\n",
    "    Y = np.load(outputFile) # format: 'Classification_abbrev03.npy'\n",
    "    # make output value starting from 0 for conventional purpose\n",
    "    if (numOfClass != 2):\n",
    "        Y = Y-1\n",
    "\n",
    "    # building the input vector from the 28x28 pixels\n",
    "    X_train, X_val_and_test, y_train, Y_val_and_test = train_test_split(X, Y, test_size = testSize)\n",
    "    X_val, X_test, y_val, y_test = train_test_split(X_val_and_test, Y_val_and_test, test_size=0.5)\n",
    "    X_train = X_train.reshape(X_train.shape[0], X.shape[1], X.shape[2], X.shape[3])\n",
    "    X_test = X_test.reshape(X_test.shape[0], X.shape[1], X.shape[2], X.shape[3])\n",
    "    X_val = X_val.reshape(X_val.shape[0], X.shape[1], X.shape[2], X.shape[3])\n",
    "    X_train = X_train.astype('float32')\n",
    "    X_test = X_test.astype('float32')\n",
    "    X_val = X_val.astype('float32')\n",
    "  \n",
    "\n",
    "    # normalizing the data to help with the training\n",
    "    X_train /= 255\n",
    "    X_test /= 255\n",
    "\n",
    "    # one-hot encoding using keras' numpy-related utilities\n",
    "    n_classes = numOfClass\n",
    "    Y_train = np_utils.to_categorical(y_train, n_classes)\n",
    "    Y_test = np_utils.to_categorical(y_test, n_classes)\n",
    "    Y_val = np_utils.to_categorical(y_val, n_classes)\n",
    "    \n",
    "    # extract train and val features\n",
    "    vgg_features_train = pretrained_model.predict(X_train)\n",
    "    vgg_features_val = pretrained_model.predict(X_val)\n",
    "    \n",
    "    # OHE target column\n",
    "    train_target = Y_train\n",
    "    val_target = Y_val\n",
    "\n",
    "    model2 = Sequential()\n",
    "    model2.add(Flatten(input_shape=(7,7,512)))\n",
    "    model2.add(Dense(100, activation='relu'))\n",
    "    model2.add(Dropout(0.5))\n",
    "    model2.add(BatchNormalization())\n",
    "    model2.add(Dense(10, activation='softmax'))\n",
    "\n",
    "    # compile the model\n",
    "    model2.compile(optimizer='adam', metrics=['accuracy'], loss='categorical_crossentropy')\n",
    "\n",
    "    model2.summary()\n",
    "\n",
    "    # train model using features generated from VGG16 model\n",
    "    model2.fit(vgg_features_train, train_target, epochs=50, batch_size=128, validation_data=(vgg_features_val, val_target))\n",
    "    \n",
    "    \n",
    "    # get the output value of last layer of the CNN model\n",
    "    inp = model2.input\n",
    "    outputs = [layer.output for layer in model2.layers] \n",
    "    layerIndex = len(outputs)-1\n",
    "    func = K.function([model2.get_layer(index=0).input], model2.get_layer(index=layerIndex).output)\n",
    "    layerOutput = func([X_test])  # input_data is a numpy array\n",
    "    print(layerOutput.shape)\n",
    "    layerOutput\n",
    "    # another way of getting the probability of the softmax outpouts: predictions = model.predict(X_test)\n",
    "\n",
    "    # put all information into dataframe\n",
    "    result = pd.DataFrame(layerOutput)\n",
    "    predictions = model2.predict(X_test)\n",
    "    result['predict'] = result.idxmax(axis='columns')\n",
    "    result['actual'] = y_test\n",
    "    \n",
    "    return result"
   ]
  },
  {
   "cell_type": "markdown",
   "id": "776a3ff7",
   "metadata": {},
   "source": [
    "# Example"
   ]
  },
  {
   "cell_type": "code",
   "execution_count": null,
   "id": "1c35a6c3",
   "metadata": {},
   "outputs": [],
   "source": [
    "a = Run_CNN_Model('ImageArray01.npy', 'Classification_abbrev01.npy', 0.3, 2)"
   ]
  }
 ],
 "metadata": {
  "kernelspec": {
   "display_name": "Python 3 (ipykernel)",
   "language": "python",
   "name": "python3"
  },
  "language_info": {
   "codemirror_mode": {
    "name": "ipython",
    "version": 3
   },
   "file_extension": ".py",
   "mimetype": "text/x-python",
   "name": "python",
   "nbconvert_exporter": "python",
   "pygments_lexer": "ipython3",
   "version": "3.9.7"
  }
 },
 "nbformat": 4,
 "nbformat_minor": 5
}
